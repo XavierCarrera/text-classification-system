{
  "nbformat": 4,
  "nbformat_minor": 0,
  "metadata": {
    "colab": {
      "name": "Document Classification Model.ipynb",
      "provenance": [],
      "authorship_tag": "ABX9TyOR6T3jQLkSosqQtDL4tlKc",
      "include_colab_link": true
    },
    "kernelspec": {
      "name": "python3",
      "display_name": "Python 3"
    }
  },
  "cells": [
    {
      "cell_type": "markdown",
      "metadata": {
        "id": "view-in-github",
        "colab_type": "text"
      },
      "source": [
        "<a href=\"https://colab.research.google.com/github/XavierCarrera/text-classification-system/blob/main/Document_Classification_Model.ipynb\" target=\"_parent\"><img src=\"https://colab.research.google.com/assets/colab-badge.svg\" alt=\"Open In Colab\"/></a>"
      ]
    },
    {
      "cell_type": "code",
      "metadata": {
        "id": "tkJIEUwZF0Uf"
      },
      "source": [
        "!git clone https://github.com/pachocamacho1990/datasets"
      ],
      "execution_count": null,
      "outputs": []
    },
    {
      "cell_type": "code",
      "metadata": {
        "id": "8X026hxXF_Tr"
      },
      "source": [
        "import pandas as pd\n",
        "import numpy as np\n",
        "import nltk, random\n",
        "nltk.download('punkt')\n",
        "nltk.download('averaged_perceptron_tagger')\n",
        "from nltk import word_tokenize"
      ],
      "execution_count": null,
      "outputs": []
    },
    {
      "cell_type": "code",
      "metadata": {
        "id": "pScUGrj_GEmX",
        "outputId": "4b09fe27-cb0b-43a1-c056-609fc92f2571",
        "colab": {
          "base_uri": "https://localhost:8080/",
          "height": 204
        }
      },
      "source": [
        "df = pd.read_csv('datasets/email/csv/spam-apache.csv', names = ['clase','contenido'])\n",
        "df['tokens'] = df['contenido'].apply(lambda x: word_tokenize(x))\n",
        "df.head()"
      ],
      "execution_count": 3,
      "outputs": [
        {
          "output_type": "execute_result",
          "data": {
            "text/html": [
              "<div>\n",
              "<style scoped>\n",
              "    .dataframe tbody tr th:only-of-type {\n",
              "        vertical-align: middle;\n",
              "    }\n",
              "\n",
              "    .dataframe tbody tr th {\n",
              "        vertical-align: top;\n",
              "    }\n",
              "\n",
              "    .dataframe thead th {\n",
              "        text-align: right;\n",
              "    }\n",
              "</style>\n",
              "<table border=\"1\" class=\"dataframe\">\n",
              "  <thead>\n",
              "    <tr style=\"text-align: right;\">\n",
              "      <th></th>\n",
              "      <th>clase</th>\n",
              "      <th>contenido</th>\n",
              "      <th>tokens</th>\n",
              "    </tr>\n",
              "  </thead>\n",
              "  <tbody>\n",
              "    <tr>\n",
              "      <th>0</th>\n",
              "      <td>-1</td>\n",
              "      <td>&lt;!DOCTYPE HTML PUBLIC \"-//W3C//DTD HTML 4.0 Tr...</td>\n",
              "      <td>[&lt;, !, DOCTYPE, HTML, PUBLIC, ``, -//W3C//DTD,...</td>\n",
              "    </tr>\n",
              "    <tr>\n",
              "      <th>1</th>\n",
              "      <td>1</td>\n",
              "      <td>&gt; Russell Turpin:\\n&gt; &gt; That depends on how the...</td>\n",
              "      <td>[&gt;, Russell, Turpin, :, &gt;, &gt;, That, depends, o...</td>\n",
              "    </tr>\n",
              "    <tr>\n",
              "      <th>2</th>\n",
              "      <td>-1</td>\n",
              "      <td>Help wanted.  We are a 14 year old fortune 500...</td>\n",
              "      <td>[Help, wanted, ., We, are, a, 14, year, old, f...</td>\n",
              "    </tr>\n",
              "    <tr>\n",
              "      <th>3</th>\n",
              "      <td>-1</td>\n",
              "      <td>Request A Free No Obligation Consultation!\\nAc...</td>\n",
              "      <td>[Request, A, Free, No, Obligation, Consultatio...</td>\n",
              "    </tr>\n",
              "    <tr>\n",
              "      <th>4</th>\n",
              "      <td>1</td>\n",
              "      <td>Is there a way to look for a particular file o...</td>\n",
              "      <td>[Is, there, a, way, to, look, for, a, particul...</td>\n",
              "    </tr>\n",
              "  </tbody>\n",
              "</table>\n",
              "</div>"
            ],
            "text/plain": [
              "   clase  ...                                             tokens\n",
              "0     -1  ...  [<, !, DOCTYPE, HTML, PUBLIC, ``, -//W3C//DTD,...\n",
              "1      1  ...  [>, Russell, Turpin, :, >, >, That, depends, o...\n",
              "2     -1  ...  [Help, wanted, ., We, are, a, 14, year, old, f...\n",
              "3     -1  ...  [Request, A, Free, No, Obligation, Consultatio...\n",
              "4      1  ...  [Is, there, a, way, to, look, for, a, particul...\n",
              "\n",
              "[5 rows x 3 columns]"
            ]
          },
          "metadata": {
            "tags": []
          },
          "execution_count": 3
        }
      ]
    },
    {
      "cell_type": "code",
      "metadata": {
        "id": "5ZSBKRVyGGJu",
        "outputId": "4f8c6dac-4c13-4893-a2b2-171ffd318326",
        "colab": {
          "base_uri": "https://localhost:8080/",
          "height": 204
        }
      },
      "source": [
        "df_spam = df[df[\"clase\"] == -1]\n",
        "df_spam.head()"
      ],
      "execution_count": 4,
      "outputs": [
        {
          "output_type": "execute_result",
          "data": {
            "text/html": [
              "<div>\n",
              "<style scoped>\n",
              "    .dataframe tbody tr th:only-of-type {\n",
              "        vertical-align: middle;\n",
              "    }\n",
              "\n",
              "    .dataframe tbody tr th {\n",
              "        vertical-align: top;\n",
              "    }\n",
              "\n",
              "    .dataframe thead th {\n",
              "        text-align: right;\n",
              "    }\n",
              "</style>\n",
              "<table border=\"1\" class=\"dataframe\">\n",
              "  <thead>\n",
              "    <tr style=\"text-align: right;\">\n",
              "      <th></th>\n",
              "      <th>clase</th>\n",
              "      <th>contenido</th>\n",
              "      <th>tokens</th>\n",
              "    </tr>\n",
              "  </thead>\n",
              "  <tbody>\n",
              "    <tr>\n",
              "      <th>0</th>\n",
              "      <td>-1</td>\n",
              "      <td>&lt;!DOCTYPE HTML PUBLIC \"-//W3C//DTD HTML 4.0 Tr...</td>\n",
              "      <td>[&lt;, !, DOCTYPE, HTML, PUBLIC, ``, -//W3C//DTD,...</td>\n",
              "    </tr>\n",
              "    <tr>\n",
              "      <th>2</th>\n",
              "      <td>-1</td>\n",
              "      <td>Help wanted.  We are a 14 year old fortune 500...</td>\n",
              "      <td>[Help, wanted, ., We, are, a, 14, year, old, f...</td>\n",
              "    </tr>\n",
              "    <tr>\n",
              "      <th>3</th>\n",
              "      <td>-1</td>\n",
              "      <td>Request A Free No Obligation Consultation!\\nAc...</td>\n",
              "      <td>[Request, A, Free, No, Obligation, Consultatio...</td>\n",
              "    </tr>\n",
              "    <tr>\n",
              "      <th>10</th>\n",
              "      <td>-1</td>\n",
              "      <td>&gt;\\n&gt;“µ×è¹µÑÇ ¡ÑºâÅ¡¸ØÃ¡Ô¨º¹ÍÔ¹àµÍÃìà¹çµ” \\n&gt;àµ...</td>\n",
              "      <td>[&gt;, &gt;, “, µ×è¹µÑÇ, ¡ÑºâÅ¡¸ØÃ¡Ô¨º¹ÍÔ¹àµÍÃìà¹çµ,...</td>\n",
              "    </tr>\n",
              "    <tr>\n",
              "      <th>11</th>\n",
              "      <td>-1</td>\n",
              "      <td>==============================================...</td>\n",
              "      <td>[=============================================...</td>\n",
              "    </tr>\n",
              "  </tbody>\n",
              "</table>\n",
              "</div>"
            ],
            "text/plain": [
              "    clase  ...                                             tokens\n",
              "0      -1  ...  [<, !, DOCTYPE, HTML, PUBLIC, ``, -//W3C//DTD,...\n",
              "2      -1  ...  [Help, wanted, ., We, are, a, 14, year, old, f...\n",
              "3      -1  ...  [Request, A, Free, No, Obligation, Consultatio...\n",
              "10     -1  ...  [>, >, “, µ×è¹µÑÇ, ¡ÑºâÅ¡¸ØÃ¡Ô¨º¹ÍÔ¹àµÍÃìà¹çµ,...\n",
              "11     -1  ...  [=============================================...\n",
              "\n",
              "[5 rows x 3 columns]"
            ]
          },
          "metadata": {
            "tags": []
          },
          "execution_count": 4
        }
      ]
    },
    {
      "cell_type": "code",
      "metadata": {
        "id": "q4VlGgPYGJeU",
        "outputId": "743155fa-fc35-4cad-d3a7-5f39c18b42ab",
        "colab": {
          "base_uri": "https://localhost:8080/",
          "height": 357
        }
      },
      "source": [
        "spam_words = nltk.FreqDist([w for tokenlist in df_spam['tokens'].values for w in tokenlist])\n",
        "top_spam_words = spam_words.most_common(200)\n",
        "top_spam_words[:20]"
      ],
      "execution_count": 6,
      "outputs": [
        {
          "output_type": "execute_result",
          "data": {
            "text/plain": [
              "[('.', 1256),\n",
              " ('--', 1099),\n",
              " ('the', 1019),\n",
              " (',', 978),\n",
              " ('to', 842),\n",
              " ('>', 759),\n",
              " (':', 686),\n",
              " ('<', 675),\n",
              " ('%', 667),\n",
              " ('!', 652),\n",
              " ('and', 642),\n",
              " ('you', 569),\n",
              " ('of', 503),\n",
              " ('#', 499),\n",
              " ('BR', 494),\n",
              " ('in', 382),\n",
              " ('a', 368),\n",
              " ('$', 368),\n",
              " ('for', 358),\n",
              " ('I', 316)]"
            ]
          },
          "metadata": {
            "tags": []
          },
          "execution_count": 6
        }
      ]
    },
    {
      "cell_type": "code",
      "metadata": {
        "id": "SGz6qtf2GMdb",
        "outputId": "16f3b2a6-e493-47a4-9777-6f04970655a8",
        "colab": {
          "base_uri": "https://localhost:8080/",
          "height": 357
        }
      },
      "source": [
        "all_words = nltk.FreqDist([w for tokenlist in df['tokens'].values for w in tokenlist])\n",
        "top_words = all_words.most_common(200)\n",
        "top_words[:20]"
      ],
      "execution_count": 7,
      "outputs": [
        {
          "output_type": "execute_result",
          "data": {
            "text/plain": [
              "[('.', 2200),\n",
              " (',', 2173),\n",
              " ('the', 1963),\n",
              " ('>', 1787),\n",
              " ('--', 1611),\n",
              " ('to', 1435),\n",
              " (':', 1220),\n",
              " ('and', 1064),\n",
              " ('of', 958),\n",
              " ('a', 879),\n",
              " ('you', 743),\n",
              " ('in', 742),\n",
              " ('I', 741),\n",
              " ('<', 718),\n",
              " ('!', 698),\n",
              " ('%', 677),\n",
              " ('for', 609),\n",
              " ('is', 577),\n",
              " ('#', 521),\n",
              " ('BR', 494)]"
            ]
          },
          "metadata": {
            "tags": []
          },
          "execution_count": 7
        }
      ]
    },
    {
      "cell_type": "code",
      "metadata": {
        "id": "__TzgcJIGO3m",
        "outputId": "2c4153aa-c726-4eb7-eb8c-dbc27f5377d3",
        "colab": {
          "base_uri": "https://localhost:8080/",
          "height": 1000
        }
      },
      "source": [
        "spam_words_list = [w for (w, c) in top_spam_words]\n",
        "top_words_list = [tw for (tw, cw) in top_words]\n",
        "\n",
        "spam_words_list"
      ],
      "execution_count": 8,
      "outputs": [
        {
          "output_type": "execute_result",
          "data": {
            "text/plain": [
              "['.',\n",
              " '--',\n",
              " 'the',\n",
              " ',',\n",
              " 'to',\n",
              " '>',\n",
              " ':',\n",
              " '<',\n",
              " '%',\n",
              " '!',\n",
              " 'and',\n",
              " 'you',\n",
              " 'of',\n",
              " '#',\n",
              " 'BR',\n",
              " 'in',\n",
              " 'a',\n",
              " '$',\n",
              " 'for',\n",
              " 'I',\n",
              " 'your',\n",
              " 'is',\n",
              " 'this',\n",
              " '31',\n",
              " 'http',\n",
              " '?',\n",
              " 'that',\n",
              " '30',\n",
              " ')',\n",
              " 'on',\n",
              " 'it',\n",
              " 'have',\n",
              " 'are',\n",
              " 'with',\n",
              " '...',\n",
              " 'will',\n",
              " \"''\",\n",
              " '&',\n",
              " '(',\n",
              " 'our',\n",
              " 'my',\n",
              " 'be',\n",
              " '-',\n",
              " 'from',\n",
              " 'or',\n",
              " 'as',\n",
              " 'The',\n",
              " 'at',\n",
              " 'not',\n",
              " 'out',\n",
              " '5',\n",
              " 'all',\n",
              " 'We',\n",
              " 'This',\n",
              " 'THE',\n",
              " '``',\n",
              " 'can',\n",
              " 'by',\n",
              " 'FREE',\n",
              " '1',\n",
              " 'people',\n",
              " 'You',\n",
              " 'one',\n",
              " 'we',\n",
              " \"'s\",\n",
              " 'To',\n",
              " 'No',\n",
              " 'just',\n",
              " 'If',\n",
              " 'do',\n",
              " 'A',\n",
              " 'AND',\n",
              " 'was',\n",
              " 'TO',\n",
              " 'YOU',\n",
              " 'address',\n",
              " 'time',\n",
              " 'if',\n",
              " '2',\n",
              " 'more',\n",
              " 'each',\n",
              " 'money',\n",
              " 'email',\n",
              " '@',\n",
              " 'OF',\n",
              " 'an',\n",
              " 'name',\n",
              " 'me',\n",
              " 'only',\n",
              " '3',\n",
              " 'YOUR',\n",
              " 'list',\n",
              " 'send',\n",
              " 'has',\n",
              " 'up',\n",
              " 'get',\n",
              " 'so',\n",
              " 'REPORT',\n",
              " 'been',\n",
              " 'please',\n",
              " 'Your',\n",
              " 'below',\n",
              " 'program',\n",
              " '4',\n",
              " 'NOT',\n",
              " 'they',\n",
              " 'over',\n",
              " 'receive',\n",
              " 'his',\n",
              " 'e-mails',\n",
              " 'THIS',\n",
              " 'any',\n",
              " 'work',\n",
              " 'Please',\n",
              " \"'\",\n",
              " 'other',\n",
              " 'nbsp=3B',\n",
              " 'us',\n",
              " 'make',\n",
              " 'like',\n",
              " 'free',\n",
              " '//www.adclick.ws/p.cfm',\n",
              " 'but',\n",
              " 'FOR',\n",
              " '=',\n",
              " \"n't\",\n",
              " 'received',\n",
              " 'Report',\n",
              " 'see',\n",
              " 'am',\n",
              " 'mail',\n",
              " 'who',\n",
              " '5,000',\n",
              " 'go',\n",
              " 'company',\n",
              " 'click',\n",
              " 'total',\n",
              " 'e-mail',\n",
              " 'lose',\n",
              " 'Q',\n",
              " 'no',\n",
              " '*',\n",
              " 'here',\n",
              " 'days',\n",
              " 'their',\n",
              " 'then',\n",
              " 'link',\n",
              " 'US',\n",
              " 'what',\n",
              " 'than',\n",
              " 'Click',\n",
              " 'information',\n",
              " 'how',\n",
              " 'about',\n",
              " 'had',\n",
              " 'NOW',\n",
              " 'IN',\n",
              " 's=pk007',\n",
              " 'also',\n",
              " 'made',\n",
              " 'reports',\n",
              " '100',\n",
              " 'want',\n",
              " 'new',\n",
              " 'million',\n",
              " 'IS',\n",
              " 'would',\n",
              " 'he',\n",
              " 'letter',\n",
              " 'response',\n",
              " 'transaction',\n",
              " 'through',\n",
              " '0.2',\n",
              " 'Free',\n",
              " 'wish',\n",
              " 'improvement',\n",
              " 'Internet',\n",
              " 'next',\n",
              " 'DO',\n",
              " 'orders',\n",
              " 'sending',\n",
              " 'because',\n",
              " 'which',\n",
              " 'account',\n",
              " 'Drive',\n",
              " 'every',\n",
              " 'without',\n",
              " 'simple',\n",
              " 'day',\n",
              " 'report',\n",
              " 'need',\n",
              " 'them',\n",
              " 'down',\n",
              " 'remove',\n",
              " 'membership',\n",
              " 'MY',\n",
              " '***',\n",
              " 'names',\n",
              " 'sent',\n",
              " 'removed']"
            ]
          },
          "metadata": {
            "tags": []
          },
          "execution_count": 8
        }
      ]
    },
    {
      "cell_type": "code",
      "metadata": {
        "id": "vlGiUvEzGRQW",
        "outputId": "cec6f678-70ce-4996-a319-b2bb4256a7f4",
        "colab": {
          "base_uri": "https://localhost:8080/",
          "height": 282
        }
      },
      "source": [
        "df['clase'].hist()"
      ],
      "execution_count": 9,
      "outputs": [
        {
          "output_type": "execute_result",
          "data": {
            "text/plain": [
              "<matplotlib.axes._subplots.AxesSubplot at 0x7f3174dd2c18>"
            ]
          },
          "metadata": {
            "tags": []
          },
          "execution_count": 9
        },
        {
          "output_type": "display_data",
          "data": {
            "image/png": "[encoded data removed]",
            "text/plain": [
              "<Figure size 432x288 with 1 Axes>"
            ]
          },
          "metadata": {
            "tags": [],
            "needs_background": "light"
          }
        }
      ]
    },
    {
      "cell_type": "code",
      "metadata": {
        "id": "3z8CE9X1GTuh",
        "outputId": "28ac5b7d-19fc-4927-ab1b-48eafa824713",
        "colab": {
          "base_uri": "https://localhost:8080/",
          "height": 34
        }
      },
      "source": [
        "len(spam_words_list)"
      ],
      "execution_count": 10,
      "outputs": [
        {
          "output_type": "execute_result",
          "data": {
            "text/plain": [
              "200"
            ]
          },
          "metadata": {
            "tags": []
          },
          "execution_count": 10
        }
      ]
    },
    {
      "cell_type": "markdown",
      "metadata": {
        "id": "a2AGG46AGWdE"
      },
      "source": [
        "# Atribute Engineering"
      ]
    },
    {
      "cell_type": "code",
      "metadata": {
        "id": "RbpwZ0hyGV1G"
      },
      "source": [
        "def document_features(document):\n",
        "    document_words = set(document)\n",
        "    features = {}\n",
        "    features['longitud'] = len(document)\n",
        "    #for word in top_words:\n",
        "    for word in spam_words_list:\n",
        "        features['contains({})'.format(word)] = (word in document_words)\n",
        "    return features"
      ],
      "execution_count": 11,
      "outputs": []
    },
    {
      "cell_type": "code",
      "metadata": {
        "id": "Z1YNV_X8GcA6",
        "outputId": "0829e619-cd74-4eb4-9f5c-b63296eea7e8",
        "colab": {
          "base_uri": "https://localhost:8080/",
          "height": 34
        }
      },
      "source": [
        "fset = [(document_features(texto), clase) for texto, clase in zip(df['tokens'].values, df['clase'].values)]\n",
        "random.shuffle(fset)\n",
        "print(len(fset))\n",
        "train, test = fset[:200], fset[100:]"
      ],
      "execution_count": 12,
      "outputs": [
        {
          "output_type": "stream",
          "text": [
            "250\n"
          ],
          "name": "stdout"
        }
      ]
    },
    {
      "cell_type": "markdown",
      "metadata": {
        "id": "sdy1W08dGgR5"
      },
      "source": [
        "# Model Training and Evaluation"
      ]
    },
    {
      "cell_type": "code",
      "metadata": {
        "id": "_tys2764GfKN"
      },
      "source": [
        "classifier = nltk.NaiveBayesClassifier.train(train)"
      ],
      "execution_count": 13,
      "outputs": []
    },
    {
      "cell_type": "code",
      "metadata": {
        "id": "TRsO7EtFGmcE",
        "outputId": "4313fec2-bc0d-41bd-b7ef-fa85fcc53425",
        "colab": {
          "base_uri": "https://localhost:8080/",
          "height": 34
        }
      },
      "source": [
        "print(nltk.classify.accuracy(classifier, test))"
      ],
      "execution_count": 14,
      "outputs": [
        {
          "output_type": "stream",
          "text": [
            "0.9466666666666667\n"
          ],
          "name": "stdout"
        }
      ]
    }
  ]
}