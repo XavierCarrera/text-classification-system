{
  "nbformat": 4,
  "nbformat_minor": 0,
  "metadata": {
    "colab": {
      "name": "Name Classification Model.ipynb",
      "provenance": [],
      "authorship_tag": "ABX9TyM6F2uobjNzs18N6wfQU7rY",
      "include_colab_link": true
    },
    "kernelspec": {
      "name": "python3",
      "display_name": "Python 3"
    }
  },
  "cells": [
    {
      "cell_type": "markdown",
      "metadata": {
        "id": "view-in-github",
        "colab_type": "text"
      },
      "source": [
        "<a href=\"https://colab.research.google.com/github/XavierCarrera/text-classification-system/blob/main/Name_Classification_Model.ipynb\" target=\"_parent\"><img src=\"https://colab.research.google.com/assets/colab-badge.svg\" alt=\"Open In Colab\"/></a>"
      ]
    },
    {
      "cell_type": "code",
      "metadata": {
        "id": "6ny8ly7a-yN5"
      },
      "source": [
        "import pandas as pd\n",
        "import numpy as np\n",
        "import nltk, random\n",
        "!git clone https://github.com/jvalhondo/spanish-names-surnames"
      ],
      "execution_count": null,
      "outputs": []
    },
    {
      "cell_type": "code",
      "metadata": {
        "id": "yh1HxzRA_YKc",
        "outputId": "856bec3e-41e4-4daa-ae9b-3fc9b3d168ed",
        "colab": {
          "base_uri": "https://localhost:8080/",
          "height": 187
        }
      },
      "source": [
        "def fromCSVtoArray(dataPath, genre):\n",
        "  x_names = pd.read_csv(dataPath)\n",
        "  x_names = x_names.dropna(axis = 0)\n",
        "  x_names = x_names['name']\n",
        "  x_names = np.asarray(x_names)\n",
        "\n",
        "  return [(name, genre) for name in x_names] \n",
        "\n",
        "female = fromCSVtoArray('/content/spanish-names-surnames/female_names.csv', 'female')\n",
        "male = fromCSVtoArray('/content/spanish-names-surnames/male_names.csv', 'male')\n",
        "data = female + male\n",
        "\n",
        "random.shuffle(data)\n",
        "data[:10]"
      ],
      "execution_count": 18,
      "outputs": [
        {
          "output_type": "execute_result",
          "data": {
            "text/plain": [
              "[('MARIA TERESA PILAR', 'female'),\n",
              " ('GENADIO', 'male'),\n",
              " ('ATANASIA', 'female'),\n",
              " ('JOSE AURELIO', 'male'),\n",
              " ('FERNANDO ELIAS', 'male'),\n",
              " ('BRUNO EZEQUIEL', 'male'),\n",
              " ('GUIOMAR', 'male'),\n",
              " ('LOURDES CATALINA', 'female'),\n",
              " ('ANA GLORIA', 'female'),\n",
              " ('JINPING', 'female')]"
            ]
          },
          "metadata": {
            "tags": []
          },
          "execution_count": 18
        }
      ]
    },
    {
      "cell_type": "code",
      "metadata": {
        "id": "ud0cT8wBApGa"
      },
      "source": [
        "np.save('names.npy', data)"
      ],
      "execution_count": 20,
      "outputs": []
    },
    {
      "cell_type": "code",
      "metadata": {
        "id": "XVXVRSXL_eC3"
      },
      "source": [
        "data = np.load('names.npy')"
      ],
      "execution_count": 21,
      "outputs": []
    },
    {
      "cell_type": "code",
      "metadata": {
        "id": "idZJdOBm_gy4"
      },
      "source": [
        "fset = [(atributos(n), g) for (n, g) in tagset]\n",
        "train, test = fset[500:], fset[:500]"
      ],
      "execution_count": 5,
      "outputs": []
    },
    {
      "cell_type": "code",
      "metadata": {
        "id": "_CyQH2BFAyBR"
      },
      "source": [
        "def ultimaLetra(nombre):\n",
        "    atrib = {}\n",
        "    atrib[\"ultima_letra\"] = nombre[-1].lower()\n",
        "    \n",
        "    return atrib"
      ],
      "execution_count": 22,
      "outputs": []
    },
    {
      "cell_type": "code",
      "metadata": {
        "id": "iZXOSRXPA2bR"
      },
      "source": [
        "def atributos(nombre):\n",
        "    atrib = {}\n",
        "    atrib[\"primera_letra\"] = nombre[0].lower()\n",
        "    atrib[\"ultima_letra\"] = nombre[-1].lower()\n",
        "    \n",
        "    return atrib"
      ],
      "execution_count": 23,
      "outputs": []
    },
    {
      "cell_type": "code",
      "metadata": {
        "id": "rFS66S_AA5e2"
      },
      "source": [
        "def atributos1(nombre):\n",
        "    atrib = {}\n",
        "    atrib[\"primera_letra\"] = nombre[0].lower()\n",
        "    atrib[\"ultima_letra\"] = nombre[-1].lower()\n",
        "    for letra in 'abcdefghijklmnopqrstuvwxyz':\n",
        "        atrib[\"count({})\".format(letra)] = nombre.lower().count(letra)\n",
        "        atrib[\"has({})\".format(letra)] = (letra in nombre.lower())\n",
        "    return atrib"
      ],
      "execution_count": 24,
      "outputs": []
    },
    {
      "cell_type": "code",
      "metadata": {
        "id": "XlgEiMjsA8LW"
      },
      "source": [
        "def atributos2(nombre):\n",
        "    primerSegundoNombre = nombre.split(' ')\n",
        "\n",
        "    atrib = {}\n",
        "    for i in range(len(primerSegundoNombre)):\n",
        "      atrib[\"primera_letra_{}\".format(i + 1)] = primerSegundoNombre[i][0].lower()\n",
        "      atrib[\"ultima_letra_{}\".format(i + 1)] = primerSegundoNombre[i][-1].lower()\n",
        "      for letra in 'abcdefghijklmnopqrstuvwxyz':\n",
        "          atrib[\"count({})_{}\".format(letra, i + 1)] = primerSegundoNombre[i].lower().count(letra)\n",
        "          atrib[\"has({})_{}\".format(letra, i + 1)] = (letra in primerSegundoNombre[i].lower())\n",
        "    return atrib"
      ],
      "execution_count": 25,
      "outputs": []
    },
    {
      "cell_type": "code",
      "metadata": {
        "id": "LLct5oR5A_zu"
      },
      "source": [
        "def atributos3(nombre):\n",
        "    primerSegundoNombre = nombre.split(' ')\n",
        "\n",
        "    atrib = {}\n",
        "    for i in range(len(primerSegundoNombre)):\n",
        "      atrib[\"primera_letra_{}\".format(i + 1)] = primerSegundoNombre[i][0].lower()\n",
        "      atrib[\"ultima_letra_{}\".format(i + 1)] = primerSegundoNombre[i][-1].lower()\n",
        "      for letra in 'aeiou':\n",
        "          atrib[\"count({})_{}\".format(letra, i + 1)] = primerSegundoNombre[i].lower().count(letra)\n",
        "          atrib[\"has({})_{}\".format(letra, i + 1)] = (letra in primerSegundoNombre[i].lower())\n",
        "    return atrib"
      ],
      "execution_count": 26,
      "outputs": []
    },
    {
      "cell_type": "code",
      "metadata": {
        "id": "_I2CsdeYBDF3"
      },
      "source": [
        "def atributos4(nombre):\n",
        "    primerSegundoNombre = nombre.split(' ')\n",
        "\n",
        "    atrib = {}\n",
        "    for i in range(len(primerSegundoNombre)):\n",
        "      atrib[\"primera_letra_{}\".format(i + 1)] = primerSegundoNombre[i][0].lower()\n",
        "      atrib[\"primera_letra_vocal_{}\".format(i + 1)] = primerSegundoNombre[i][0].lower() in 'aieou'\n",
        "      atrib[\"ultima_letra_vocal_{}\".format(i + 1)] = primerSegundoNombre[i][-1].lower() in 'aieou'\n",
        "      atrib[\"ultima_letra_{}\".format(i + 1)] = primerSegundoNombre[i][-1].lower()\n",
        "      for letra in 'aeiou':\n",
        "          atrib[\"count({})_{}\".format(letra, i + 1)] = primerSegundoNombre[i].lower().count(letra)\n",
        "          atrib[\"has({})_{}\".format(letra, i + 1)] = (letra in primerSegundoNombre[i].lower())\n",
        "    return atrib"
      ],
      "execution_count": 27,
      "outputs": []
    },
    {
      "cell_type": "code",
      "metadata": {
        "id": "pc85N5JaBEHG"
      },
      "source": [
        "def atributos5(nombre):\n",
        "    primerSegundoNombre = nombre.split(' ')\n",
        "\n",
        "    atrib = {}\n",
        "    atrib[\"segundo_nombre\"] = len(primerSegundoNombre) > 1\n",
        "    for i in range(len(primerSegundoNombre)):\n",
        "      atrib[\"primera_letra_{}\".format(i + 1)] = primerSegundoNombre[i][0].lower()\n",
        "      atrib[\"primera_letra_vocal_{}\".format(i + 1)] = primerSegundoNombre[i][0].lower() in 'aieou'\n",
        "      atrib[\"ultima_letra_vocal_{}\".format(i + 1)] = primerSegundoNombre[i][-1].lower() in 'aieou'\n",
        "      atrib[\"ultima_letra_{}\".format(i + 1)] = primerSegundoNombre[i][-1].lower()\n",
        "      for letra in 'aeiou':\n",
        "          atrib[\"count({})_{}\".format(letra, i + 1)] = primerSegundoNombre[i].lower().count(letra)\n",
        "          atrib[\"has({})_{}\".format(letra, i + 1)] = (letra in primerSegundoNombre[i].lower())\n",
        "    return atrib"
      ],
      "execution_count": 28,
      "outputs": []
    },
    {
      "cell_type": "code",
      "metadata": {
        "id": "RitjoWSaBHQe"
      },
      "source": [
        "def atributos5(nombre):\n",
        "    primerSegundoNombre = nombre.split(' ')\n",
        "\n",
        "    atrib = {}\n",
        "    atrib[\"segundo_nombre\"] = len(primerSegundoNombre) > 1\n",
        "    for i in range(len(primerSegundoNombre)):\n",
        "      atrib[\"primera_letra_{}\".format(i + 1)] = primerSegundoNombre[i][0].lower()\n",
        "      atrib[\"primera_letra_vocal_{}\".format(i + 1)] = primerSegundoNombre[i][0].lower() in 'aieou'\n",
        "      atrib[\"ultima_letra_vocal_{}\".format(i + 1)] = primerSegundoNombre[i][-1].lower() in 'aieou'\n",
        "      atrib[\"ultima_letra_{}\".format(i + 1)] = primerSegundoNombre[i][-1].lower()\n",
        "      for letra in 'aeiou':\n",
        "          atrib[\"count({})_{}\".format(letra, i + 1)] = primerSegundoNombre[i].lower().count(letra)\n",
        "          atrib[\"has({})_{}\".format(letra, i + 1)] = (letra in primerSegundoNombre[i].lower())\n",
        "    return atrib"
      ],
      "execution_count": 29,
      "outputs": []
    },
    {
      "cell_type": "code",
      "metadata": {
        "id": "rNwg9kVfBLoq"
      },
      "source": [
        "def atributos7(nombre):\n",
        "    primerSegundoNombre = nombre.split(' ')\n",
        "\n",
        "    atrib = {}\n",
        "\n",
        "    #atrib[\"ultimas_4_letras_1\"] = primerSegundoNombre[0][-1:-5:-1].lower()\n",
        "    #atrib[\"ultimas_4_letras_2\"] = primerSegundoNombre[1][-1:-5:-1].lower()\n",
        "\n",
        "\n",
        "    for i in range(len(primerSegundoNombre)):\n",
        "      atrib[\"ultimas_4_letras_{}\".format(i + 1)] = primerSegundoNombre[i][-1:-5:-1].lower()\n",
        "      atrib[\"primera_letra_{}\".format(i + 1)] = primerSegundoNombre[i][0].lower()\n",
        "      atrib[\"primera_letra_vocal_{}\".format(i + 1)] = primerSegundoNombre[i][0].lower() in 'aieou'\n",
        "      atrib[\"ultima_letra_vocal_{}\".format(i + 1)] = primerSegundoNombre[i][-1].lower() in 'aieou'\n",
        "      atrib[\"ultima_letra_{}\".format(i + 1)] = primerSegundoNombre[i][-1].lower()\n",
        "      for letra in 'aeiou':\n",
        "          atrib[\"count({})_{}\".format(letra, i + 1)] = primerSegundoNombre[i].lower().count(letra)\n",
        "          atrib[\"has({})_{}\".format(letra, i + 1)] = (letra in primerSegundoNombre[i].lower())\n",
        "    return atrib"
      ],
      "execution_count": 30,
      "outputs": []
    },
    {
      "cell_type": "code",
      "metadata": {
        "id": "GdsYXZtvBSGs"
      },
      "source": [
        "def dataAugmentation(data):\n",
        "  newData = data\n",
        "  for (n, g) in newData:\n",
        "    primerYSegundoNombre = n.split(\" \")\n",
        "    segundoNombre = len(primerYSegundoNombre) > 1\n",
        "\n",
        "    if segundoNombre:\n",
        "      newData = np.append(newData, [(primerYSegundoNombre[0], g)], axis = 0)\n",
        "      newData = np.append(newData, [(primerYSegundoNombre[1], g)], axis = 0)\n",
        "      \n",
        "    #print(newData[-1])\n",
        "  return newData"
      ],
      "execution_count": 31,
      "outputs": []
    },
    {
      "cell_type": "code",
      "metadata": {
        "id": "bOk4soQJBT1j"
      },
      "source": [
        "def dataAugmentation2(data):\n",
        "  newData = data\n",
        "  \n",
        "  for (n, g) in newData:\n",
        "    primerYSegundoNombre = n.split(\" \")\n",
        "    segundoNombre = len(primerYSegundoNombre) > 1\n",
        "\n",
        "    if segundoNombre:\n",
        "      if not primerYSegundoNombre[0] in data[0]:\n",
        "        newData = np.append(newData, [(primerYSegundoNombre[0], g)], axis = 0)\n",
        "      \n",
        "      if not primerYSegundoNombre[1] in data[0]:\n",
        "        newData = np.append(newData, [(primerYSegundoNombre[1], g)], axis = 0)\n",
        "      \n",
        "      if not primerYSegundoNombre[1] + primerYSegundoNombre[0]  in data[0]:\n",
        "        newData = np.append(newData, [(primerYSegundoNombre[1] + primerYSegundoNombre[0], g)], axis = 0)\n",
        "\n",
        "  return newData"
      ],
      "execution_count": 32,
      "outputs": []
    },
    {
      "cell_type": "code",
      "metadata": {
        "id": "AtNteU4UBWNY"
      },
      "source": [
        "dataAugmented2 = dataAugmentation2(data)"
      ],
      "execution_count": 33,
      "outputs": []
    },
    {
      "cell_type": "code",
      "metadata": {
        "id": "YxNgT1BdBZoT"
      },
      "source": [
        "np.save('dataAugmented.npy', dataAugmented2)"
      ],
      "execution_count": 34,
      "outputs": []
    },
    {
      "cell_type": "code",
      "metadata": {
        "id": "Am-kfxAwBb-C"
      },
      "source": [
        "dataAugmented2 = np.load('dataAugmented.npy')"
      ],
      "execution_count": 35,
      "outputs": []
    },
    {
      "cell_type": "code",
      "metadata": {
        "id": "8UeUsBGdBe5N",
        "outputId": "15f105d2-2c7c-4cee-e5b8-6f23e40aecb9",
        "colab": {
          "base_uri": "https://localhost:8080/",
          "height": 34
        }
      },
      "source": [
        "data.shape, dataAugmented2.shape"
      ],
      "execution_count": 36,
      "outputs": [
        {
          "output_type": "execute_result",
          "data": {
            "text/plain": [
              "((49339, 2), (145387, 2))"
            ]
          },
          "metadata": {
            "tags": []
          },
          "execution_count": 36
        }
      ]
    },
    {
      "cell_type": "markdown",
      "metadata": {
        "id": "3B04mrF8BtFf"
      },
      "source": [
        "# Model Training"
      ]
    },
    {
      "cell_type": "code",
      "metadata": {
        "id": "s9uH-JB8BgXb"
      },
      "source": [
        "fset = [(atributos7(n), g) for (n, g) in dataAugmented2]\n",
        "\n",
        "train, test = fset[500:], fset[:500]\n",
        "fset\n",
        "classifierEspaniol = nltk.NaiveBayesClassifier.train(train)"
      ],
      "execution_count": 37,
      "outputs": []
    },
    {
      "cell_type": "markdown",
      "metadata": {
        "id": "KVFfKGTqB0Nn"
      },
      "source": [
        "# Evaluation"
      ]
    },
    {
      "cell_type": "code",
      "metadata": {
        "id": "9-r7fR5PByHI",
        "outputId": "c6f56688-6381-4451-a974-6babf35fc287",
        "colab": {
          "base_uri": "https://localhost:8080/",
          "height": 34
        }
      },
      "source": [
        "print(nltk.classify.accuracy(classifierEspaniol, test))"
      ],
      "execution_count": 38,
      "outputs": [
        {
          "output_type": "stream",
          "text": [
            "0.898\n"
          ],
          "name": "stdout"
        }
      ]
    },
    {
      "cell_type": "code",
      "metadata": {
        "id": "fC5lH8CPB6N3",
        "outputId": "39d8b159-15be-4ae1-f1b7-27643cf57a0f",
        "colab": {
          "base_uri": "https://localhost:8080/",
          "height": 901
        }
      },
      "source": [
        "i = 0\n",
        "for (n, g) in data[:500]:\n",
        "  p = classifierEspaniol.classify(atributos7(n))\n",
        "  if p != g:\n",
        "    i += 1\n",
        "    print(n, g, p)\n",
        "\n",
        "print(i)"
      ],
      "execution_count": 39,
      "outputs": [
        {
          "output_type": "stream",
          "text": [
            "JINPING female male\n",
            "YERALDIN female male\n",
            "YUMIKO female male\n",
            "BILALY male female\n",
            "CONSUELO ANGELES female male\n",
            "JHOSELIN female male\n",
            "VICTORY female male\n",
            "AIHONG female male\n",
            "HAIYUN female male\n",
            "FATTOUCH female male\n",
            "YACINE male female\n",
            "MIREN ITXASO female male\n",
            "CAROLAY female male\n",
            "MIREN JOSU female male\n",
            "XIAOZHEN female male\n",
            "JESSY female male\n",
            "DRISSA male female\n",
            "ISSAME male female\n",
            "CLEMENCE female male\n",
            "GAIETA male female\n",
            "JAGOBA male female\n",
            "VERACRUZ female male\n",
            "AOUATIF female male\n",
            "BAKARTXO female male\n",
            "JIAHUI female male\n",
            "BOUNA male female\n",
            "NAWAR female male\n",
            "FIRDAUS female male\n",
            "NAOUAL female male\n",
            "SINISA male female\n",
            "INES LOURDES female male\n",
            "IÑAKI MIRENA male female\n",
            "HUAMEI female male\n",
            "MAH NOOR female male\n",
            "WENJIE female male\n",
            "NAGAI male female\n",
            "LAYAN female male\n",
            "LIAQAT male female\n",
            "CORINNE female male\n",
            "SERYOZHA male female\n",
            "ABDI male female\n",
            "SUQIN female male\n",
            "MELVI female male\n",
            "INES JESUS female male\n",
            "BRUGUES female male\n",
            "HARPREET female male\n",
            "NAVJOT female male\n",
            "NAVDEEP female male\n",
            "SONAM female male\n",
            "HALIMATOU female male\n",
            "NAZAKAT male female\n",
            "51\n"
          ],
          "name": "stdout"
        }
      ]
    },
    {
      "cell_type": "code",
      "metadata": {
        "id": "5MoJJpaQB8U6",
        "outputId": "ac269a67-41cd-435d-fcae-6dff6bf06973",
        "colab": {
          "base_uri": "https://localhost:8080/",
          "height": 34
        }
      },
      "source": [
        "print(nltk.classify.accuracy(classifierEspaniol, train))"
      ],
      "execution_count": 40,
      "outputs": [
        {
          "output_type": "stream",
          "text": [
            "0.9516243693361033\n"
          ],
          "name": "stdout"
        }
      ]
    },
    {
      "cell_type": "code",
      "metadata": {
        "id": "npEHh4cTB-s6",
        "outputId": "550f6e57-c86a-4f44-a966-a99b8b1b3553",
        "colab": {
          "base_uri": "https://localhost:8080/",
          "height": 35
        }
      },
      "source": [
        "classifierEspaniol.classify(atributos4('Xavier'))"
      ],
      "execution_count": 41,
      "outputs": [
        {
          "output_type": "execute_result",
          "data": {
            "application/vnd.google.colaboratory.intrinsic+json": {
              "type": "string"
            },
            "text/plain": [
              "'male'"
            ]
          },
          "metadata": {
            "tags": []
          },
          "execution_count": 41
        }
      ]
    }
  ]
}